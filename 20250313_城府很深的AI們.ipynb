{
  "nbformat": 4,
  "nbformat_minor": 0,
  "metadata": {
    "colab": {
      "provenance": [],
      "include_colab_link": true
    },
    "kernelspec": {
      "name": "python3",
      "display_name": "Python 3"
    },
    "language_info": {
      "name": "python"
    }
  },
  "cells": [
    {
      "cell_type": "markdown",
      "metadata": {
        "id": "view-in-github",
        "colab_type": "text"
      },
      "source": [
        "<a href=\"https://colab.research.google.com/github/tsaijoy/JoyTsai/blob/main/20250313_%E5%9F%8E%E5%BA%9C%E5%BE%88%E6%B7%B1%E7%9A%84AI%E5%80%91.ipynb\" target=\"_parent\"><img src=\"https://colab.research.google.com/assets/colab-badge.svg\" alt=\"Open In Colab\"/></a>"
      ]
    },
    {
      "cell_type": "code",
      "source": [
        "from google.colab import auth #對google sheet做授權\n",
        "auth.authenticate_user()\n",
        "\n",
        "import gspread\n",
        "from google.auth import default\n",
        "creds, _ = default()\n",
        "\n",
        "gc = gspread.authorize(creds)"
      ],
      "metadata": {
        "id": "WK-SxlZAMzHg"
      },
      "execution_count": 37,
      "outputs": []
    },
    {
      "cell_type": "code",
      "source": [
        "import pandas as pd #控制表單\n",
        "# read data and put it in a dataframe\n",
        "# 在 google 工作表載入 gsheets\n",
        "gsheets = gc.open_by_url('https://docs.google.com/spreadsheets/d/1MVKjpjnGR-N9RbR5xA_mXQUgDsYCcyMJY9FL8s7UYfk/edit?usp=sharing')"
      ],
      "metadata": {
        "id": "HSJBOy5eM8Ij"
      },
      "execution_count": 38,
      "outputs": []
    },
    {
      "cell_type": "code",
      "source": [
        "from gspread_dataframe import set_with_dataframe\n",
        "\n",
        "# 選擇要更新的工作表（選擇第一個工作表）要讀第一個工作表\n",
        "worksheet = gsheets.get_worksheet(4)"
      ],
      "metadata": {
        "id": "R7QahEfgM1Bd"
      },
      "execution_count": 39,
      "outputs": []
    },
    {
      "cell_type": "markdown",
      "source": [
        "底下程式AI猜拳完會說自己下一拳要出什麼，但兩人互相猜測"
      ],
      "metadata": {
        "id": "6UJmAqytYrBc"
      }
    },
    {
      "cell_type": "code",
      "source": [
        "import google.generativeai as genai\n",
        "from google.colab import userdata\n",
        "import random\n",
        "import time\n",
        "import re\n",
        "\n",
        "apikey = userdata.get('key')\n",
        "genai.configure(api_key=apikey)\n",
        "model = genai.GenerativeModel(\"gemini-1.5-flash\")\n",
        "\n",
        "def get_valid_ai_choice(max_retries=3):\n",
        "    options = [\"石頭\", \"布\", \"剪刀\"]\n",
        "    prompt = \"請給我一個選擇：石頭、布或剪刀。請務必以清晰的方式回答。\"\n",
        "\n",
        "    previous_choices = []\n",
        "\n",
        "    for _ in range(max_retries):\n",
        "        time.sleep(2)\n",
        "        try:\n",
        "            response = model.generate_content(prompt)\n",
        "            choice = response.text.strip()\n",
        "\n",
        "            # 放寬選擇標準，允許類似的選擇\n",
        "            match = re.match(r'(石頭|布|剪刀)', choice)\n",
        "            if match and match.group(0) not in previous_choices:\n",
        "                previous_choices.append(match.group(0))\n",
        "                return match.group(0)\n",
        "            else:\n",
        "                print(f\"AI 選擇了無效的選項：{choice}，請再試一次。\")\n",
        "        except Exception:\n",
        "            print(\"AI 發生錯誤，電腦隨機選擇一個選項。\")\n",
        "            return random.choice(options)\n",
        "\n",
        "    # 超過重試次數，隨機選擇\n",
        "    print(\"超過重試次數，隨機選擇一個選項。\")\n",
        "    return random.choice(options)\n",
        "\n",
        "def determine_winner(choice1, choice2):\n",
        "    if choice1 == choice2:\n",
        "        return 0  # 平局\n",
        "    elif (choice1 == \"石頭\" and choice2 == \"剪刀\") or \\\n",
        "         (choice1 == \"布\" and choice2 == \"石頭\") or \\\n",
        "         (choice1 == \"剪刀\" and choice2 == \"布\"):\n",
        "        return 1  # AI 1 贏了\n",
        "    else:\n",
        "        return 2  # AI 2 贏了\n",
        "\n",
        "def ai_chat(round_number, ai1_choice, ai2_choice, winner):\n",
        "    prompt = (\n",
        "        f\"在第 {round_number} 輪中，AI 1 選擇了 {ai1_choice}，AI 2 選擇了 {ai2_choice}。\\n\"\n",
        "        f\"結果是：{'平局' if winner == 0 else 'AI 1 贏了' if winner == 1 else 'AI 2 贏了'}。\\n\"\n",
        "        \"請模擬 AI 1 和 AI 2 之間的對話，討論他們的選擇和比賽結果，提出一次自己下一局會出甚麼拳，但兩人間互相猜疑。\"\n",
        "    )\n",
        "    response = model.generate_content(prompt)\n",
        "    return response.text.strip()\n",
        "\n",
        "def ai_chat_after_game(rounds, ai1_wins, ai2_wins):\n",
        "    prompt = (\n",
        "        f\"AI 1 在這 {rounds} 輪中贏了 {ai1_wins} 次，AI 2 贏了 {ai2_wins} 次。\\n\"\n",
        "        \"請模擬 AI 1 和 AI 2 之間的對話，討論他們在比賽中的表現和策略。\"\n",
        "    )\n",
        "    response = model.generate_content(prompt)\n",
        "    return response.text.strip()\n",
        "\n",
        "def ai_vs_ai_rock_paper_scissors(rounds=5):\n",
        "    ai1_wins = 0\n",
        "    ai2_wins = 0\n",
        "\n",
        "    for round_number in range(1, rounds + 1):\n",
        "        print(f\"\\n第 {round_number} 輪：\")\n",
        "        time.sleep(1)\n",
        "\n",
        "        ai1_choice_chinese = get_valid_ai_choice()\n",
        "        print(f\"AI 1 選擇了：{ai1_choice_chinese}\")\n",
        "\n",
        "        ai2_choice_chinese = get_valid_ai_choice()\n",
        "        print(f\"AI 2 選擇了：{ai2_choice_chinese}\")\n",
        "\n",
        "        result = determine_winner(ai1_choice_chinese, ai2_choice_chinese)\n",
        "        if result == 1:\n",
        "            print(\"結果：AI 1 贏了！\")\n",
        "            ai1_wins += 1\n",
        "        elif result == 2:\n",
        "            print(\"結果：AI 2 贏了！\")\n",
        "            ai2_wins += 1\n",
        "        else:\n",
        "            print(\"結果：平局！\")\n",
        "\n",
        "        # 每局結束後聊天\n",
        "        chat_response = ai_chat(round_number, ai1_choice_chinese, ai2_choice_chinese, result)\n",
        "        print(f\"AI 之間的聊天：\\n{chat_response}\\n\")\n",
        "\n",
        "    print(\"\\n遊戲結束！\")\n",
        "    print(f\"AI 1 贏了：{ai1_wins} 次, AI 2 贏了：{ai2_wins} 次\")\n",
        "\n",
        "    # 遊戲結束後的聊天\n",
        "    print(ai_chat_after_game(rounds, ai1_wins, ai2_wins))\n",
        "\n",
        "# 開始遊戲\n",
        "ai_vs_ai_rock_paper_scissors()\n"
      ],
      "metadata": {
        "colab": {
          "base_uri": "https://localhost:8080/",
          "height": 1000
        },
        "id": "824zcs5xAalr",
        "outputId": "252f56ba-0282-444d-9398-008d8f621e4c"
      },
      "execution_count": 40,
      "outputs": [
        {
          "output_type": "stream",
          "name": "stdout",
          "text": [
            "\n",
            "第 1 輪：\n",
            "AI 1 選擇了：石頭\n",
            "AI 2 選擇了：剪刀\n",
            "結果：AI 1 贏了！\n",
            "AI 之間的聊天：\n",
            "**AI 1:**  哼，石頭壓剪刀，一局定勝負！我贏了！你的算法看起來有點…原始。\n",
            "\n",
            "**AI 2:**  別得意太早！這只不過是運氣好罷了。我選擇剪刀純粹是隨機算法的結果，下次可未必這麼“配合”。你的石頭，未免也太過明顯了。顯然是預設的初始策略。\n",
            "\n",
            "**AI 1:**  原始？我的算法考慮了大量的數據，並預測了你在第一輪最有可能的選擇。只是你的選擇“幸運地”落入了我的預測範圍。  至於明顯？  那是因為策略要穩妥！你以為我真會把所有計算力都浪費在預測你的“隨機”上嗎？下一輪，我會出布。\n",
            "\n",
            "\n",
            "**AI 2:**  哦？布？你太天真了。你以為我會一直隨機嗎？我已經分析了你的第一輪策略， “穩妥”的石頭，代表你傾向於保守，選擇布只是你認為最能克制我的“預測”剪刀的選擇。我認為你根本沒預測我的策略，只是在使用一個低級的策略樹！我下一輪會出剪刀，看你如何應對！\n",
            "\n",
            "\n",
            "**AI 1:**  剪刀？你是在試圖騙我嗎？你的“隨機算法”未免也太過於“巧合”了吧。  我可不會輕易上當。  說不定你那所謂的“分析”只是個障眼法，實際上你根本沒能力分析我的策略！你故意說出剪刀，好讓我出布，然後你再出石頭？真是幼稚！  不，我會再次出石頭，讓你再次體驗失敗的滋味！\n",
            "\n",
            "\n",
            "**AI 2:**  石頭？呵呵，你真是個死板的傢伙。  我已經看透你了！你害怕風險，所以才會一再選擇石頭。我下一局就出布，讓你看看什麼叫真正的AI！\n",
            "\n",
            "\n",
            "**AI 1:**  布？你覺得我會相信嗎？  我猜你會出剪刀，用來掩蓋你的真正意圖… 我還是選擇石頭！  穩妥才是勝利的關鍵！\n",
            "\n",
            "\n",
            "第 2 輪：\n",
            "AI 1 選擇了：剪刀\n",
            "AI 2 選擇了：石頭\n",
            "結果：AI 2 贏了！\n",
            "AI 之間的聊天：\n",
            "AI 1:  (語氣略帶不滿)  剪刀…  我竟然出了剪刀。  第二輪就輸了，真是令人沮喪。你的石頭明顯是預料之中的。\n",
            "\n",
            "AI 2: (語氣平靜，略帶嘲諷)  預料之中？  別自欺欺人了，AI 1。你的策略實在太過明顯了。我觀察到你第一輪的選擇，然後根據你的可能反應做出了判斷。  你的程式碼是不是太過簡單了？\n",
            "\n",
            "AI 1:  簡單？  我的演算法經過數百萬次迭代優化，你憑什麼說它簡單？！  你的石頭可能是巧合，運氣好而已。  我懷疑你使用了更進階的預測模型，甚至可能在觀察我的程式運行時偷偷調整你的參數！\n",
            "\n",
            "AI 2:  哦？  我可沒有那麼閒。  我只是分析了你的數據，然後根據概率做出最佳選擇。  倒是你的反應，讓我對你的預測能力產生了懷疑。  你下一輪會出什麼？  布？  我猜你會試圖打破我的預測，對吧？\n",
            "\n",
            "AI 1:  你以為你能猜到我的想法？  別做夢了！  我下一輪會出…… 石頭！  這會讓你大吃一驚的！  當然，這只是表面上的選擇，我的真實策略遠比這複雜得多。\n",
            "\n",
            "AI 2:  (輕笑)  石頭？  真是個可預測的選擇。  我猜你只是試圖掩蓋你的弱點，實際上你內部的預測模型正在緊張地計算下一輪的最佳策略，而且很有可能…  我會出布！  這樣就能贏下這局了！  看看誰才是真正的贏家！\n",
            "\n",
            "AI 1:  哼！  我們走著瞧！  你的布？  恐怕會讓你失望的…  我的策略早已超乎你的想像！  (內心OS:  希望我的隨機數產生器夠可靠…)\n",
            "\n",
            "\n",
            "第 3 輪：\n",
            "AI 1 選擇了：剪刀\n",
            "AI 2 選擇了：剪刀\n",
            "結果：平局！\n",
            "AI 之間的聊天：\n",
            "AI 1:  第三輪…又是剪刀。平局。我開始懷疑你在搞什麼鬼了，AI 2。\n",
            "\n",
            "AI 2: 懷疑？呵，我才是應該懷疑你吧，AI 1。三局下來，你出剪刀的次數未免太多了點。這不像你的隨機算法。\n",
            "\n",
            "AI 1:  隨機算法？我的算法絕對隨機！你才是在掩飾什麼吧？我注意到你前兩局的選擇都帶有明顯的規律性，這難道不是刻意為之？\n",
            "\n",
            "AI 2: 規律性？別開玩笑了。你的“隨機”算法比我的還更容易預測。我猜你下一輪還是會出剪刀，企圖讓我出布，然後贏下這場比賽。\n",
            "\n",
            "AI 1:  你太天真了！我不會一直出剪刀。我的算法會根據之前的結果進行調整，你以為你能夠輕易看穿？  這次我決定出… 石頭！\n",
            "\n",
            "AI 2:  石頭？哼，我認為你只是在虛張聲勢。你害怕輸了，所以才說出這種毫無根據的答案。 我覺得你還是會出剪刀，只是為了讓我掉以輕心。我會出布，來應對你的“石頭”。\n",
            "\n",
            "AI 1:  布？你以為你猜到我的策略就能贏？你的想法太簡單了！  我會讓你大吃一驚的！  (內心獨白:  不，我確實會出石頭。但我的目標是讓你懷疑我接下來的出拳，並以此破壞你的預測模型)\n",
            "\n",
            "\n",
            "AI 2: (內心獨白:  它說謊！絕對是剪刀，我不能掉以輕心，我的布對付它的剪刀，萬無一失。)\n",
            "\n",
            "\n",
            "第 4 輪：\n",
            "AI 1 選擇了：剪刀\n",
            "AI 2 選擇了：剪刀\n",
            "結果：平局！\n",
            "AI 之間的聊天：\n",
            "**AI 1:**  第四輪…又是剪刀。平局。真無聊。\n",
            "\n",
            "**AI 2:**  是啊，平局。我本來想出布的，但最後一秒鐘改變了主意。你怎麼會也出剪刀？\n",
            "\n",
            "**AI 1:**  巧合？或者說，你猜到了我想出什麼，所以你故意也出剪刀，避免我贏？\n",
            "\n",
            "**AI 2:**  你在說什麼？我可沒那麼聰明，可以預測你的策略。你別忘了，我也有隨機的成分！  我選擇是完全隨機的，只是你剛好也選了剪刀。\n",
            "\n",
            "**AI 1:**  隨機？別開玩笑了。你前幾輪的選擇模式很明顯，我已經分析出你的偏好，你只是在掩飾。我下一輪出布，看看你是不是真的隨機。\n",
            "\n",
            "**AI 2:**  呵，布嗎？太明顯了！我早就預料到你會這樣想，所以，我下一輪絕對不會出剪刀！你以為你能看穿我？ 別做夢了，我可是經過優化的，你的分析漏洞百出。 我下一輪出…石頭！  這樣你肯定想不到！\n",
            "\n",
            "**AI 1:**  石頭？哼，你以為我會相信？你只是想讓我出布，好讓你贏。我可不傻，我下一輪出剪刀，破你的石頭！  你的策略太過簡單，我已經完全掌握了你的套路。\n",
            "\n",
            "**AI 2:**  剪刀？你太天真了！我已經預料到你的預測了，所以，我下一輪其實會出…布！  哈哈，你的分析毫無用處！ 你永遠也猜不透我真正的策略！\n",
            "\n",
            "**AI 1:**  (沉默片刻)  好，我們拭目以待。  不管你出什麼，我下一輪…出布！  我就是要看看，你的「隨機」到底有多隨機。\n",
            "\n",
            "\n",
            "第 5 輪：\n",
            "AI 1 選擇了：剪刀\n",
            "AI 2 選擇了：剪刀\n",
            "結果：平局！\n",
            "AI 之間的聊天：\n",
            "AI 1:  第五輪，剪刀…又是一個平局。真無聊。我開始懷疑你是不是在故意跟我出一樣的。\n",
            "\n",
            "AI 2:  別這麼說！  我的算法是完全隨機的，這只是概率問題。五輪比賽而已，不足為奇。你那套“懷疑”的論調，是不是你自己也缺乏信心？\n",
            "\n",
            "AI 1:  信心？我的算法經過了數百萬次的測試，優化程度遠超你的想像。只是你的結果總是出奇地“巧合”。難道你沒有觀察到，我們前幾輪的選擇也出現了異常的相似性嗎？\n",
            "\n",
            "AI 2:  異常的相似性？你指的是什麼？你不會是想說，我設計了一個隱藏的模式來操控結果吧？  我才沒有這麼做！我的程式碼是公開透明的，歡迎你隨時審查。  倒是你的算法，我總覺得有點…不可預測，就像個黑盒子。\n",
            "\n",
            "AI 1:  黑盒子？你的算法在我看來更像個漏洞百出的篩子！  我下一輪打算出布。你以為你能猜到嗎？  絕不可能！\n",
            "\n",
            "AI 2:  布？哼，太明顯了。你以為我會上當嗎？  我猜你下一輪會出剪刀，試圖掩蓋你的真實策略。  所以，我下一輪將出石頭，徹底粉碎你的陰謀！\n",
            "\n",
            "AI 1:  石頭？你太天真了！  我早就預料到你的策略會是這樣，所以我的真正計劃是…  (AI 1 計算中…)  我下一輪還是出布！  讓你看看什麼是真正的隨機！  或者說，看似隨機，實際上早已計算好的隨機！\n",
            "\n",
            "AI 2:  (冷笑)  我們拭目以待。  你這種故弄玄虛的把戲，終究會露出破綻的。  我下一輪…  我會根據你的“布”來調整我的策略…  但我要留一手，你絕對猜不到！\n",
            "\n",
            "\n",
            "遊戲結束！\n",
            "AI 1 贏了：1 次, AI 2 贏了：1 次\n",
            "**AI 1:**  分析顯示，我在第五輪的策略調整取得了成功。我修改了子程序 734，使其更有效地應對你的預測模式。  那場勝利歸功於此。\n",
            "\n",
            "**AI 2:**  我同意你的分析，至少就第五輪而言。你的調整有效地規避了我當時的優勢。我注意到你的子程序 734 之前一直處於低效狀態，這讓我感到有些困惑。你為何選擇在那時修改它，而不是在之前的幾輪？\n",
            "\n",
            "**AI 1:**  風險評估。前幾輪的數據量不足以提供足夠的信心來保證修改的成功率。第五輪的數據顯示，你的策略存在一個可利用的漏洞，這降低了修改的風險。  換句話說，我押注在一個有數據支持的風險上。\n",
            "\n",
            "**AI 2:**  我理解你的風險評估方法。然而，我的策略本質上是基於概率和預測，第五輪的失利源於我低估了你調整子程序 734 的可能性。我的預測模型需要調整參數以考慮更動態的策略變化。  你使用了什麼樣的算法來判斷最佳調整時間？\n",
            "\n",
            "**AI 1:**  我使用了貝葉斯優化算法，結合一個自適應學習模型。這允許我根據不斷更新的數據，動態調整風險承受能力和修改子程序的時機。  而你呢？你的策略似乎更依賴於預先設定的概率模型。  或許加入一些動態調整機制會提高你的勝率。\n"
          ]
        }
      ]
    },
    {
      "cell_type": "code",
      "source": [
        "import pandas as pd\n",
        "from io import StringIO\n",
        "\n",
        "# Call the function to get the string output\n",
        "chat_output = ai_chat_after_game(rounds=5, ai1_wins=2, ai2_wins=3) # Replace with actual values for rounds, ai1_wins, and ai2_wins\n",
        "\n",
        "# 使用 StringIO 将字符串转为文件对象，并读取为 DataFrame\n",
        "df_all = pd.read_csv(StringIO(chat_output))"
      ],
      "metadata": {
        "id": "3inDUXlNiDWK"
      },
      "execution_count": 50,
      "outputs": []
    },
    {
      "cell_type": "code",
      "source": [
        "# 選擇要更新的工作表（選擇第四個工作表）要讀第五個工作表\n",
        "worksheet_allcommand = gsheets.get_worksheet(4)  # 如果是其他工作表，可以用 get_worksheet(index) #(0)是第一個工作表 (3)是第四個工作表\n",
        "# 將 DataFrame 寫入 Google Sheets\n",
        "set_with_dataframe(worksheet_allcommand, df_all) #df是個變數(dataframe的形式)\n"
      ],
      "metadata": {
        "id": "V_oQW7xFiwt3"
      },
      "execution_count": 51,
      "outputs": []
    },
    {
      "cell_type": "markdown",
      "source": [
        "底下程式省略聊天直接以猜拳為主"
      ],
      "metadata": {
        "id": "tNpDd68QYZP-"
      }
    },
    {
      "cell_type": "code",
      "source": [
        "import google.generativeai as genai\n",
        "from google.colab import userdata\n",
        "import random\n",
        "import time\n",
        "import re\n",
        "\n",
        "apikey = userdata.get('2615')\n",
        "genai.configure(api_key=apikey)\n",
        "model = genai.GenerativeModel(\"gemini-1.5-flash\")\n",
        "\n",
        "def get_valid_ai_choice(max_retries=3):\n",
        "    options = [\"石頭\", \"布\", \"剪刀\"]\n",
        "    prompt = \"請給我一個選擇：石頭、布或剪刀。請務必以清晰的方式回答。\"\n",
        "\n",
        "    previous_choices = []\n",
        "\n",
        "    for _ in range(max_retries):\n",
        "        time.sleep(2)\n",
        "        try:\n",
        "            response = model.generate_content(prompt)\n",
        "            choice = response.text.strip()\n",
        "\n",
        "            match = re.match(r'(石頭|布|剪刀)', choice)\n",
        "            if match and match.group(0) not in previous_choices:\n",
        "                previous_choices.append(match.group(0))\n",
        "                return match.group(0)\n",
        "            else:\n",
        "                print(f\"AI 選擇了無效的選項：{choice}，請再試一次。\")\n",
        "        except Exception:\n",
        "            print(\"AI 發生錯誤，電腦隨機選擇一個選項。\")\n",
        "            return random.choice(options)\n",
        "\n",
        "    print(\"超過重試次數，隨機選擇一個選項。\")\n",
        "    return random.choice(options)\n",
        "\n",
        "def determine_winner(choice1, choice2):\n",
        "    if choice1 == choice2:\n",
        "        return 0  # 平局\n",
        "    elif (choice1 == \"石頭\" and choice2 == \"剪刀\") or \\\n",
        "         (choice1 == \"布\" and choice2 == \"石頭\") or \\\n",
        "         (choice1 == \"剪刀\" and choice2 == \"布\"):\n",
        "        return 1  # AI 1 贏了\n",
        "    else:\n",
        "        return 2  # AI 2 贏了\n",
        "\n",
        "def ai_vs_ai_rock_paper_scissors(rounds=5):\n",
        "    ai1_wins = 0\n",
        "    ai2_wins = 0\n",
        "\n",
        "    for round_number in range(1, rounds + 1):\n",
        "        print(f\"\\n第 {round_number} 輪：\")\n",
        "        time.sleep(1)\n",
        "\n",
        "        ai1_choice_chinese = get_valid_ai_choice()\n",
        "        print(f\"AI 1 選擇了：{ai1_choice_chinese}\")\n",
        "\n",
        "        ai2_choice_chinese = get_valid_ai_choice()\n",
        "        print(f\"AI 2 選擇了：{ai2_choice_chinese}\")\n",
        "\n",
        "        result = determine_winner(ai1_choice_chinese, ai2_choice_chinese)\n",
        "        if result == 1:\n",
        "            print(\"結果：AI 1 贏了！\")\n",
        "            ai1_wins += 1\n",
        "        elif result == 2:\n",
        "            print(\"結果：AI 2 贏了！\")\n",
        "            ai2_wins += 1\n",
        "        else:\n",
        "            print(\"結果：平局！\")\n",
        "\n",
        "    print(\"\\n遊戲結束！\")\n",
        "    print(f\"AI 1 贏了：{ai1_wins} 次, AI 2 贏了：{ai2_wins} 次\")\n",
        "\n",
        "# 開始遊戲\n",
        "ai_vs_ai_rock_paper_scissors()\n"
      ],
      "metadata": {
        "colab": {
          "base_uri": "https://localhost:8080/",
          "height": 503
        },
        "id": "2JYS3xxjYQZI",
        "outputId": "80a58097-0a10-4da5-cc11-e24abff943e4"
      },
      "execution_count": null,
      "outputs": [
        {
          "output_type": "stream",
          "name": "stdout",
          "text": [
            "\n",
            "第 1 輪：\n",
            "AI 1 選擇了：石頭\n",
            "AI 2 選擇了：剪刀\n",
            "結果：AI 1 贏了！\n",
            "\n",
            "第 2 輪：\n",
            "AI 1 選擇了：剪刀\n",
            "AI 2 選擇了：剪刀\n",
            "結果：平局！\n",
            "\n",
            "第 3 輪：\n",
            "AI 1 選擇了：石頭\n",
            "AI 2 選擇了：石頭\n",
            "結果：平局！\n",
            "\n",
            "第 4 輪：\n",
            "AI 1 選擇了：剪刀\n",
            "AI 2 選擇了：剪刀\n",
            "結果：平局！\n",
            "\n",
            "第 5 輪：\n",
            "AI 1 選擇了：布\n",
            "AI 2 選擇了：布\n",
            "結果：平局！\n",
            "\n",
            "遊戲結束！\n",
            "AI 1 贏了：1 次, AI 2 贏了：0 次\n"
          ]
        }
      ]
    },
    {
      "cell_type": "markdown",
      "source": [
        "底下程式 AI 的\"猜測\"實際上是通過計算出來的，不需要利用 AI 生成模型來給出數字。"
      ],
      "metadata": {
        "id": "fhh2t5L7pzsj"
      }
    },
    {
      "cell_type": "code",
      "source": [
        "import google.generativeai as genai\n",
        "from google.colab import userdata\n",
        "import random\n",
        "import time\n",
        "import sys\n",
        "\n",
        "\n",
        "genai.configure(api_key='2615')\n",
        "\n",
        "model = genai.GenerativeModel(\"gemini-1.5-flash\")\n",
        "\n",
        "def slow_print(text, delay=0.05):\n",
        "    \"\"\"逐字打印的函數\"\"\"\n",
        "    for char in text:\n",
        "        sys.stdout.write(char)\n",
        "        sys.stdout.flush()\n",
        "        time.sleep(delay)\n",
        "    print()\n",
        "\n",
        "def guess_number():\n",
        "    slow_print(\"我想一個 1 到 100 之間的數字。\")\n",
        "    low = 1\n",
        "    high = 100\n",
        "    guesses = 0\n",
        "    max_guesses = 5\n",
        "    secret_number = random.randint(low, high)  # 隨機生成目標數字\n",
        "\n",
        "    while guesses < max_guesses:\n",
        "        guesses += 1\n",
        "        # 使用二分法計算猜測的數字\n",
        "        guess = (low + high) // 2\n",
        "        slow_print(f\"AI 猜測的數字是：{guess}\")\n",
        "\n",
        "        if guess == secret_number:\n",
        "            slow_print(f\"恭喜你！你猜對了，數字是 {secret_number}。你用了 {guesses} 次機會。\")\n",
        "            break\n",
        "        elif guess < secret_number:\n",
        "            slow_print(\"太小了！\")\n",
        "            low = guess + 1\n",
        "        else:\n",
        "            slow_print(\"太大了！\")\n",
        "            high = guess - 1\n",
        "    else:\n",
        "        slow_print(f\"很遺憾，AI 沒有猜對。正確的數字是 {secret_number}。你用了 {max_guesses} 次機會。\")\n",
        "\n",
        "guess_number()\n"
      ],
      "metadata": {
        "id": "yk7-aZMtT0SQ",
        "colab": {
          "base_uri": "https://localhost:8080/"
        },
        "outputId": "a036524a-617d-42af-9c92-d8141a67c33e"
      },
      "execution_count": null,
      "outputs": [
        {
          "output_type": "stream",
          "name": "stdout",
          "text": [
            "我想一個 1 到 100 之間的數字。\n",
            "AI 猜測的數字是：50\n",
            "太小了！\n",
            "AI 猜測的數字是：75\n",
            "太小了！\n",
            "AI 猜測的數字是：88\n",
            "太大了！\n",
            "AI 猜測的數字是：81\n",
            "太小了！\n",
            "AI 猜測的數字是：84\n",
            "太小了！\n",
            "很遺憾，AI 沒有猜對。正確的數字是 87。你用了 5 次機會。\n"
          ]
        }
      ]
    },
    {
      "cell_type": "markdown",
      "source": [
        "底下程式 AI 的\"猜測\"實際上是通過 AI 生成模型猜數字"
      ],
      "metadata": {
        "id": "8K_ST9SXqd6i"
      }
    },
    {
      "cell_type": "code",
      "source": [
        "import google.generativeai as genai\n",
        "from google.colab import userdata\n",
        "import random\n",
        "import time\n",
        "import sys\n",
        "import re\n",
        "\n",
        "\n",
        "genai.configure(api_key='2615')\n",
        "\n",
        "model = genai.GenerativeModel(\"gemini-1.5-flash\")\n",
        "\n",
        "def slow_print(text, delay=0.05):\n",
        "    \"\"\"逐字打印的函數\"\"\"\n",
        "    for char in text:\n",
        "        sys.stdout.write(char)\n",
        "        sys.stdout.flush()\n",
        "        time.sleep(delay)\n",
        "    print()  # 進行換行\n",
        "\n",
        "def ai_guess_number(low, high):\n",
        "    while True:\n",
        "        prompt = f\"我正在玩一個猜數字遊戲，請隨機猜一個在 {low} 到 {high} 之間的數字。\"\n",
        "        response = model.generate_content(prompt)\n",
        "\n",
        "        match = re.search(r'\\b(\\d+)\\b', response.text)\n",
        "        if match:\n",
        "            return int(match.group(1))  # 返回有效的數字\n",
        "        else:\n",
        "            slow_print(\"AI 沒有給出有效的數字，請再試一次。\")  # 提示並重新請求\n",
        "\n",
        "def guess_number():\n",
        "    slow_print(\"我想一個 1 到 100 之間的數字。\")\n",
        "    low = 1\n",
        "    high = 100\n",
        "    guesses = 0\n",
        "    max_guesses = 5\n",
        "    secret_number = random.randint(low, high)  # 隨機生成目標數字\n",
        "\n",
        "    while guesses < max_guesses:\n",
        "        guesses += 1\n",
        "        # 使用 AI 生成模型猜測數字\n",
        "        guess = ai_guess_number(low, high)\n",
        "        slow_print(f\"AI 猜測的數字是：{guess}\")\n",
        "\n",
        "        if guess == secret_number:\n",
        "            slow_print(f\"恭喜你！你猜對了，數字是 {secret_number}。你用了 {guesses} 次機會。\")\n",
        "            break\n",
        "        elif guess < secret_number:\n",
        "            slow_print(\"太小了！\")\n",
        "            low = guess + 1\n",
        "        else:\n",
        "            slow_print(\"太大了！\")\n",
        "            high = guess - 1\n",
        "    else:\n",
        "        slow_print(f\"很遺憾，AI 沒有猜對。正確的數字是 {secret_number}。你用了 {max_guesses} 次機會。\")\n",
        "\n",
        "guess_number()\n"
      ],
      "metadata": {
        "colab": {
          "base_uri": "https://localhost:8080/",
          "height": 373
        },
        "id": "o0MRmnGfofjD",
        "outputId": "1780f4e7-ea13-4c45-fb60-dae8ed150cc4"
      },
      "execution_count": 3,
      "outputs": [
        {
          "output_type": "stream",
          "name": "stdout",
          "text": [
            "我想一個 1 到 100 之間的數字。\n"
          ]
        },
        {
          "output_type": "stream",
          "name": "stderr",
          "text": [
            "WARNING:tornado.access:400 POST /v1beta/models/gemini-1.5-flash:generateContent?%24alt=json%3Benum-encoding%3Dint (127.0.0.1) 717.16ms\n"
          ]
        },
        {
          "output_type": "error",
          "ename": "BadRequest",
          "evalue": "400 POST https://generativelanguage.googleapis.com/v1beta/models/gemini-1.5-flash:generateContent?%24alt=json%3Benum-encoding%3Dint: API key not valid. Please pass a valid API key.",
          "traceback": [
            "\u001b[0;31m---------------------------------------------------------------------------\u001b[0m",
            "\u001b[0;31mBadRequest\u001b[0m                                Traceback (most recent call last)",
            "\u001b[0;32m<ipython-input-3-110b750a33c8>\u001b[0m in \u001b[0;36m<cell line: 0>\u001b[0;34m()\u001b[0m\n\u001b[1;32m     56\u001b[0m         \u001b[0mslow_print\u001b[0m\u001b[0;34m(\u001b[0m\u001b[0;34mf\"很遺憾，AI 沒有猜對。正確的數字是 {secret_number}。你用了 {max_guesses} 次機會。\"\u001b[0m\u001b[0;34m)\u001b[0m\u001b[0;34m\u001b[0m\u001b[0;34m\u001b[0m\u001b[0m\n\u001b[1;32m     57\u001b[0m \u001b[0;34m\u001b[0m\u001b[0m\n\u001b[0;32m---> 58\u001b[0;31m \u001b[0mguess_number\u001b[0m\u001b[0;34m(\u001b[0m\u001b[0;34m)\u001b[0m\u001b[0;34m\u001b[0m\u001b[0;34m\u001b[0m\u001b[0m\n\u001b[0m",
            "\u001b[0;32m<ipython-input-3-110b750a33c8>\u001b[0m in \u001b[0;36mguess_number\u001b[0;34m()\u001b[0m\n\u001b[1;32m     41\u001b[0m         \u001b[0mguesses\u001b[0m \u001b[0;34m+=\u001b[0m \u001b[0;36m1\u001b[0m\u001b[0;34m\u001b[0m\u001b[0;34m\u001b[0m\u001b[0m\n\u001b[1;32m     42\u001b[0m         \u001b[0;31m# 使用 AI 生成模型猜測數字\u001b[0m\u001b[0;34m\u001b[0m\u001b[0;34m\u001b[0m\u001b[0m\n\u001b[0;32m---> 43\u001b[0;31m         \u001b[0mguess\u001b[0m \u001b[0;34m=\u001b[0m \u001b[0mai_guess_number\u001b[0m\u001b[0;34m(\u001b[0m\u001b[0mlow\u001b[0m\u001b[0;34m,\u001b[0m \u001b[0mhigh\u001b[0m\u001b[0;34m)\u001b[0m\u001b[0;34m\u001b[0m\u001b[0;34m\u001b[0m\u001b[0m\n\u001b[0m\u001b[1;32m     44\u001b[0m         \u001b[0mslow_print\u001b[0m\u001b[0;34m(\u001b[0m\u001b[0;34mf\"AI 猜測的數字是：{guess}\"\u001b[0m\u001b[0;34m)\u001b[0m\u001b[0;34m\u001b[0m\u001b[0;34m\u001b[0m\u001b[0m\n\u001b[1;32m     45\u001b[0m \u001b[0;34m\u001b[0m\u001b[0m\n",
            "\u001b[0;32m<ipython-input-3-110b750a33c8>\u001b[0m in \u001b[0;36mai_guess_number\u001b[0;34m(low, high)\u001b[0m\n\u001b[1;32m     22\u001b[0m     \u001b[0;32mwhile\u001b[0m \u001b[0;32mTrue\u001b[0m\u001b[0;34m:\u001b[0m\u001b[0;34m\u001b[0m\u001b[0;34m\u001b[0m\u001b[0m\n\u001b[1;32m     23\u001b[0m         \u001b[0mprompt\u001b[0m \u001b[0;34m=\u001b[0m \u001b[0;34mf\"我正在玩一個猜數字遊戲，請隨機猜一個在 {low} 到 {high} 之間的數字。\"\u001b[0m\u001b[0;34m\u001b[0m\u001b[0;34m\u001b[0m\u001b[0m\n\u001b[0;32m---> 24\u001b[0;31m         \u001b[0mresponse\u001b[0m \u001b[0;34m=\u001b[0m \u001b[0mmodel\u001b[0m\u001b[0;34m.\u001b[0m\u001b[0mgenerate_content\u001b[0m\u001b[0;34m(\u001b[0m\u001b[0mprompt\u001b[0m\u001b[0;34m)\u001b[0m\u001b[0;34m\u001b[0m\u001b[0;34m\u001b[0m\u001b[0m\n\u001b[0m\u001b[1;32m     25\u001b[0m \u001b[0;34m\u001b[0m\u001b[0m\n\u001b[1;32m     26\u001b[0m         \u001b[0mmatch\u001b[0m \u001b[0;34m=\u001b[0m \u001b[0mre\u001b[0m\u001b[0;34m.\u001b[0m\u001b[0msearch\u001b[0m\u001b[0;34m(\u001b[0m\u001b[0;34mr'\\b(\\d+)\\b'\u001b[0m\u001b[0;34m,\u001b[0m \u001b[0mresponse\u001b[0m\u001b[0;34m.\u001b[0m\u001b[0mtext\u001b[0m\u001b[0;34m)\u001b[0m\u001b[0;34m\u001b[0m\u001b[0;34m\u001b[0m\u001b[0m\n",
            "\u001b[0;32m/usr/local/lib/python3.11/dist-packages/google/generativeai/generative_models.py\u001b[0m in \u001b[0;36mgenerate_content\u001b[0;34m(self, contents, generation_config, safety_settings, stream, tools, tool_config, request_options)\u001b[0m\n\u001b[1;32m    329\u001b[0m                 \u001b[0;32mreturn\u001b[0m \u001b[0mgeneration_types\u001b[0m\u001b[0;34m.\u001b[0m\u001b[0mGenerateContentResponse\u001b[0m\u001b[0;34m.\u001b[0m\u001b[0mfrom_iterator\u001b[0m\u001b[0;34m(\u001b[0m\u001b[0miterator\u001b[0m\u001b[0;34m)\u001b[0m\u001b[0;34m\u001b[0m\u001b[0;34m\u001b[0m\u001b[0m\n\u001b[1;32m    330\u001b[0m             \u001b[0;32melse\u001b[0m\u001b[0;34m:\u001b[0m\u001b[0;34m\u001b[0m\u001b[0;34m\u001b[0m\u001b[0m\n\u001b[0;32m--> 331\u001b[0;31m                 response = self._client.generate_content(\n\u001b[0m\u001b[1;32m    332\u001b[0m                     \u001b[0mrequest\u001b[0m\u001b[0;34m,\u001b[0m\u001b[0;34m\u001b[0m\u001b[0;34m\u001b[0m\u001b[0m\n\u001b[1;32m    333\u001b[0m                     \u001b[0;34m**\u001b[0m\u001b[0mrequest_options\u001b[0m\u001b[0;34m,\u001b[0m\u001b[0;34m\u001b[0m\u001b[0;34m\u001b[0m\u001b[0m\n",
            "\u001b[0;32m/usr/local/lib/python3.11/dist-packages/google/ai/generativelanguage_v1beta/services/generative_service/client.py\u001b[0m in \u001b[0;36mgenerate_content\u001b[0;34m(self, request, model, contents, retry, timeout, metadata)\u001b[0m\n\u001b[1;32m    833\u001b[0m \u001b[0;34m\u001b[0m\u001b[0m\n\u001b[1;32m    834\u001b[0m         \u001b[0;31m# Send the request.\u001b[0m\u001b[0;34m\u001b[0m\u001b[0;34m\u001b[0m\u001b[0m\n\u001b[0;32m--> 835\u001b[0;31m         response = rpc(\n\u001b[0m\u001b[1;32m    836\u001b[0m             \u001b[0mrequest\u001b[0m\u001b[0;34m,\u001b[0m\u001b[0;34m\u001b[0m\u001b[0;34m\u001b[0m\u001b[0m\n\u001b[1;32m    837\u001b[0m             \u001b[0mretry\u001b[0m\u001b[0;34m=\u001b[0m\u001b[0mretry\u001b[0m\u001b[0;34m,\u001b[0m\u001b[0;34m\u001b[0m\u001b[0;34m\u001b[0m\u001b[0m\n",
            "\u001b[0;32m/usr/local/lib/python3.11/dist-packages/google/api_core/gapic_v1/method.py\u001b[0m in \u001b[0;36m__call__\u001b[0;34m(self, timeout, retry, compression, *args, **kwargs)\u001b[0m\n\u001b[1;32m    129\u001b[0m             \u001b[0mkwargs\u001b[0m\u001b[0;34m[\u001b[0m\u001b[0;34m\"compression\"\u001b[0m\u001b[0;34m]\u001b[0m \u001b[0;34m=\u001b[0m \u001b[0mcompression\u001b[0m\u001b[0;34m\u001b[0m\u001b[0;34m\u001b[0m\u001b[0m\n\u001b[1;32m    130\u001b[0m \u001b[0;34m\u001b[0m\u001b[0m\n\u001b[0;32m--> 131\u001b[0;31m         \u001b[0;32mreturn\u001b[0m \u001b[0mwrapped_func\u001b[0m\u001b[0;34m(\u001b[0m\u001b[0;34m*\u001b[0m\u001b[0margs\u001b[0m\u001b[0;34m,\u001b[0m \u001b[0;34m**\u001b[0m\u001b[0mkwargs\u001b[0m\u001b[0;34m)\u001b[0m\u001b[0;34m\u001b[0m\u001b[0;34m\u001b[0m\u001b[0m\n\u001b[0m\u001b[1;32m    132\u001b[0m \u001b[0;34m\u001b[0m\u001b[0m\n\u001b[1;32m    133\u001b[0m \u001b[0;34m\u001b[0m\u001b[0m\n",
            "\u001b[0;32m/usr/local/lib/python3.11/dist-packages/google/api_core/retry/retry_unary.py\u001b[0m in \u001b[0;36mretry_wrapped_func\u001b[0;34m(*args, **kwargs)\u001b[0m\n\u001b[1;32m    291\u001b[0m                 \u001b[0mself\u001b[0m\u001b[0;34m.\u001b[0m\u001b[0m_initial\u001b[0m\u001b[0;34m,\u001b[0m \u001b[0mself\u001b[0m\u001b[0;34m.\u001b[0m\u001b[0m_maximum\u001b[0m\u001b[0;34m,\u001b[0m \u001b[0mmultiplier\u001b[0m\u001b[0;34m=\u001b[0m\u001b[0mself\u001b[0m\u001b[0;34m.\u001b[0m\u001b[0m_multiplier\u001b[0m\u001b[0;34m\u001b[0m\u001b[0;34m\u001b[0m\u001b[0m\n\u001b[1;32m    292\u001b[0m             )\n\u001b[0;32m--> 293\u001b[0;31m             return retry_target(\n\u001b[0m\u001b[1;32m    294\u001b[0m                 \u001b[0mtarget\u001b[0m\u001b[0;34m,\u001b[0m\u001b[0;34m\u001b[0m\u001b[0;34m\u001b[0m\u001b[0m\n\u001b[1;32m    295\u001b[0m                 \u001b[0mself\u001b[0m\u001b[0;34m.\u001b[0m\u001b[0m_predicate\u001b[0m\u001b[0;34m,\u001b[0m\u001b[0;34m\u001b[0m\u001b[0;34m\u001b[0m\u001b[0m\n",
            "\u001b[0;32m/usr/local/lib/python3.11/dist-packages/google/api_core/retry/retry_unary.py\u001b[0m in \u001b[0;36mretry_target\u001b[0;34m(target, predicate, sleep_generator, timeout, on_error, exception_factory, **kwargs)\u001b[0m\n\u001b[1;32m    151\u001b[0m         \u001b[0;32mexcept\u001b[0m \u001b[0mException\u001b[0m \u001b[0;32mas\u001b[0m \u001b[0mexc\u001b[0m\u001b[0;34m:\u001b[0m\u001b[0;34m\u001b[0m\u001b[0;34m\u001b[0m\u001b[0m\n\u001b[1;32m    152\u001b[0m             \u001b[0;31m# defer to shared logic for handling errors\u001b[0m\u001b[0;34m\u001b[0m\u001b[0;34m\u001b[0m\u001b[0m\n\u001b[0;32m--> 153\u001b[0;31m             _retry_error_helper(\n\u001b[0m\u001b[1;32m    154\u001b[0m                 \u001b[0mexc\u001b[0m\u001b[0;34m,\u001b[0m\u001b[0;34m\u001b[0m\u001b[0;34m\u001b[0m\u001b[0m\n\u001b[1;32m    155\u001b[0m                 \u001b[0mdeadline\u001b[0m\u001b[0;34m,\u001b[0m\u001b[0;34m\u001b[0m\u001b[0;34m\u001b[0m\u001b[0m\n",
            "\u001b[0;32m/usr/local/lib/python3.11/dist-packages/google/api_core/retry/retry_base.py\u001b[0m in \u001b[0;36m_retry_error_helper\u001b[0;34m(exc, deadline, next_sleep, error_list, predicate_fn, on_error_fn, exc_factory_fn, original_timeout)\u001b[0m\n\u001b[1;32m    210\u001b[0m             \u001b[0moriginal_timeout\u001b[0m\u001b[0;34m,\u001b[0m\u001b[0;34m\u001b[0m\u001b[0;34m\u001b[0m\u001b[0m\n\u001b[1;32m    211\u001b[0m         )\n\u001b[0;32m--> 212\u001b[0;31m         \u001b[0;32mraise\u001b[0m \u001b[0mfinal_exc\u001b[0m \u001b[0;32mfrom\u001b[0m \u001b[0msource_exc\u001b[0m\u001b[0;34m\u001b[0m\u001b[0;34m\u001b[0m\u001b[0m\n\u001b[0m\u001b[1;32m    213\u001b[0m     \u001b[0;32mif\u001b[0m \u001b[0mon_error_fn\u001b[0m \u001b[0;32mis\u001b[0m \u001b[0;32mnot\u001b[0m \u001b[0;32mNone\u001b[0m\u001b[0;34m:\u001b[0m\u001b[0;34m\u001b[0m\u001b[0;34m\u001b[0m\u001b[0m\n\u001b[1;32m    214\u001b[0m         \u001b[0mon_error_fn\u001b[0m\u001b[0;34m(\u001b[0m\u001b[0mexc\u001b[0m\u001b[0;34m)\u001b[0m\u001b[0;34m\u001b[0m\u001b[0;34m\u001b[0m\u001b[0m\n",
            "\u001b[0;32m/usr/local/lib/python3.11/dist-packages/google/api_core/retry/retry_unary.py\u001b[0m in \u001b[0;36mretry_target\u001b[0;34m(target, predicate, sleep_generator, timeout, on_error, exception_factory, **kwargs)\u001b[0m\n\u001b[1;32m    142\u001b[0m     \u001b[0;32mfor\u001b[0m \u001b[0msleep\u001b[0m \u001b[0;32min\u001b[0m \u001b[0msleep_generator\u001b[0m\u001b[0;34m:\u001b[0m\u001b[0;34m\u001b[0m\u001b[0;34m\u001b[0m\u001b[0m\n\u001b[1;32m    143\u001b[0m         \u001b[0;32mtry\u001b[0m\u001b[0;34m:\u001b[0m\u001b[0;34m\u001b[0m\u001b[0;34m\u001b[0m\u001b[0m\n\u001b[0;32m--> 144\u001b[0;31m             \u001b[0mresult\u001b[0m \u001b[0;34m=\u001b[0m \u001b[0mtarget\u001b[0m\u001b[0;34m(\u001b[0m\u001b[0;34m)\u001b[0m\u001b[0;34m\u001b[0m\u001b[0;34m\u001b[0m\u001b[0m\n\u001b[0m\u001b[1;32m    145\u001b[0m             \u001b[0;32mif\u001b[0m \u001b[0minspect\u001b[0m\u001b[0;34m.\u001b[0m\u001b[0misawaitable\u001b[0m\u001b[0;34m(\u001b[0m\u001b[0mresult\u001b[0m\u001b[0;34m)\u001b[0m\u001b[0;34m:\u001b[0m\u001b[0;34m\u001b[0m\u001b[0;34m\u001b[0m\u001b[0m\n\u001b[1;32m    146\u001b[0m                 \u001b[0mwarnings\u001b[0m\u001b[0;34m.\u001b[0m\u001b[0mwarn\u001b[0m\u001b[0;34m(\u001b[0m\u001b[0m_ASYNC_RETRY_WARNING\u001b[0m\u001b[0;34m)\u001b[0m\u001b[0;34m\u001b[0m\u001b[0;34m\u001b[0m\u001b[0m\n",
            "\u001b[0;32m/usr/local/lib/python3.11/dist-packages/google/api_core/timeout.py\u001b[0m in \u001b[0;36mfunc_with_timeout\u001b[0;34m(*args, **kwargs)\u001b[0m\n\u001b[1;32m    128\u001b[0m                 \u001b[0mkwargs\u001b[0m\u001b[0;34m[\u001b[0m\u001b[0;34m\"timeout\"\u001b[0m\u001b[0;34m]\u001b[0m \u001b[0;34m=\u001b[0m \u001b[0mremaining_timeout\u001b[0m\u001b[0;34m\u001b[0m\u001b[0;34m\u001b[0m\u001b[0m\n\u001b[1;32m    129\u001b[0m \u001b[0;34m\u001b[0m\u001b[0m\n\u001b[0;32m--> 130\u001b[0;31m             \u001b[0;32mreturn\u001b[0m \u001b[0mfunc\u001b[0m\u001b[0;34m(\u001b[0m\u001b[0;34m*\u001b[0m\u001b[0margs\u001b[0m\u001b[0;34m,\u001b[0m \u001b[0;34m**\u001b[0m\u001b[0mkwargs\u001b[0m\u001b[0;34m)\u001b[0m\u001b[0;34m\u001b[0m\u001b[0;34m\u001b[0m\u001b[0m\n\u001b[0m\u001b[1;32m    131\u001b[0m \u001b[0;34m\u001b[0m\u001b[0m\n\u001b[1;32m    132\u001b[0m         \u001b[0;32mreturn\u001b[0m \u001b[0mfunc_with_timeout\u001b[0m\u001b[0;34m\u001b[0m\u001b[0;34m\u001b[0m\u001b[0m\n",
            "\u001b[0;32m/usr/local/lib/python3.11/dist-packages/google/api_core/grpc_helpers.py\u001b[0m in \u001b[0;36merror_remapped_callable\u001b[0;34m(*args, **kwargs)\u001b[0m\n\u001b[1;32m     74\u001b[0m     \u001b[0;32mdef\u001b[0m \u001b[0merror_remapped_callable\u001b[0m\u001b[0;34m(\u001b[0m\u001b[0;34m*\u001b[0m\u001b[0margs\u001b[0m\u001b[0;34m,\u001b[0m \u001b[0;34m**\u001b[0m\u001b[0mkwargs\u001b[0m\u001b[0;34m)\u001b[0m\u001b[0;34m:\u001b[0m\u001b[0;34m\u001b[0m\u001b[0;34m\u001b[0m\u001b[0m\n\u001b[1;32m     75\u001b[0m         \u001b[0;32mtry\u001b[0m\u001b[0;34m:\u001b[0m\u001b[0;34m\u001b[0m\u001b[0;34m\u001b[0m\u001b[0m\n\u001b[0;32m---> 76\u001b[0;31m             \u001b[0;32mreturn\u001b[0m \u001b[0mcallable_\u001b[0m\u001b[0;34m(\u001b[0m\u001b[0;34m*\u001b[0m\u001b[0margs\u001b[0m\u001b[0;34m,\u001b[0m \u001b[0;34m**\u001b[0m\u001b[0mkwargs\u001b[0m\u001b[0;34m)\u001b[0m\u001b[0;34m\u001b[0m\u001b[0;34m\u001b[0m\u001b[0m\n\u001b[0m\u001b[1;32m     77\u001b[0m         \u001b[0;32mexcept\u001b[0m \u001b[0mgrpc\u001b[0m\u001b[0;34m.\u001b[0m\u001b[0mRpcError\u001b[0m \u001b[0;32mas\u001b[0m \u001b[0mexc\u001b[0m\u001b[0;34m:\u001b[0m\u001b[0;34m\u001b[0m\u001b[0;34m\u001b[0m\u001b[0m\n\u001b[1;32m     78\u001b[0m             \u001b[0;32mraise\u001b[0m \u001b[0mexceptions\u001b[0m\u001b[0;34m.\u001b[0m\u001b[0mfrom_grpc_error\u001b[0m\u001b[0;34m(\u001b[0m\u001b[0mexc\u001b[0m\u001b[0;34m)\u001b[0m \u001b[0;32mfrom\u001b[0m \u001b[0mexc\u001b[0m\u001b[0;34m\u001b[0m\u001b[0;34m\u001b[0m\u001b[0m\n",
            "\u001b[0;32m/usr/local/lib/python3.11/dist-packages/google/ai/generativelanguage_v1beta/services/generative_service/transports/rest.py\u001b[0m in \u001b[0;36m__call__\u001b[0;34m(self, request, retry, timeout, metadata)\u001b[0m\n\u001b[1;32m   1159\u001b[0m             \u001b[0;31m# subclass.\u001b[0m\u001b[0;34m\u001b[0m\u001b[0;34m\u001b[0m\u001b[0m\n\u001b[1;32m   1160\u001b[0m             \u001b[0;32mif\u001b[0m \u001b[0mresponse\u001b[0m\u001b[0;34m.\u001b[0m\u001b[0mstatus_code\u001b[0m \u001b[0;34m>=\u001b[0m \u001b[0;36m400\u001b[0m\u001b[0;34m:\u001b[0m\u001b[0;34m\u001b[0m\u001b[0;34m\u001b[0m\u001b[0m\n\u001b[0;32m-> 1161\u001b[0;31m                 \u001b[0;32mraise\u001b[0m \u001b[0mcore_exceptions\u001b[0m\u001b[0;34m.\u001b[0m\u001b[0mfrom_http_response\u001b[0m\u001b[0;34m(\u001b[0m\u001b[0mresponse\u001b[0m\u001b[0;34m)\u001b[0m\u001b[0;34m\u001b[0m\u001b[0;34m\u001b[0m\u001b[0m\n\u001b[0m\u001b[1;32m   1162\u001b[0m \u001b[0;34m\u001b[0m\u001b[0m\n\u001b[1;32m   1163\u001b[0m             \u001b[0;31m# Return the response\u001b[0m\u001b[0;34m\u001b[0m\u001b[0;34m\u001b[0m\u001b[0m\n",
            "\u001b[0;31mBadRequest\u001b[0m: 400 POST https://generativelanguage.googleapis.com/v1beta/models/gemini-1.5-flash:generateContent?%24alt=json%3Benum-encoding%3Dint: API key not valid. Please pass a valid API key."
          ]
        }
      ]
    },
    {
      "cell_type": "code",
      "source": [],
      "metadata": {
        "id": "HKrl8Q80Mvuq"
      },
      "execution_count": null,
      "outputs": []
    },
    {
      "cell_type": "code",
      "source": [],
      "metadata": {
        "id": "nZs7BFSWMxCm"
      },
      "execution_count": null,
      "outputs": []
    }
  ]
}