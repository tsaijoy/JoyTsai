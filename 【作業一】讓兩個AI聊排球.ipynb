{
  "nbformat": 4,
  "nbformat_minor": 0,
  "metadata": {
    "colab": {
      "provenance": [],
      "include_colab_link": true
    },
    "kernelspec": {
      "name": "python3",
      "display_name": "Python 3"
    },
    "language_info": {
      "name": "python"
    }
  },
  "cells": [
    {
      "cell_type": "markdown",
      "metadata": {
        "id": "view-in-github",
        "colab_type": "text"
      },
      "source": [
        "<a href=\"https://colab.research.google.com/github/tsaijoy/JoyTsai/blob/main/%E3%80%90%E4%BD%9C%E6%A5%AD%E4%B8%80%E3%80%91%E8%AE%93%E5%85%A9%E5%80%8BAI%E8%81%8A%E6%8E%92%E7%90%83.ipynb\" target=\"_parent\"><img src=\"https://colab.research.google.com/assets/colab-badge.svg\" alt=\"Open In Colab\"/></a>"
      ]
    },
    {
      "cell_type": "code",
      "source": [
        "from google.colab import auth #對google sheet做授權\n",
        "auth.authenticate_user()\n",
        "\n",
        "import gspread\n",
        "from google.auth import default\n",
        "creds, _ = default()\n",
        "\n",
        "gc = gspread.authorize(creds)"
      ],
      "metadata": {
        "id": "WK-SxlZAMzHg"
      },
      "execution_count": 1,
      "outputs": []
    },
    {
      "cell_type": "code",
      "source": [
        "import pandas as pd #控制表單\n",
        "# read data and put it in a dataframe\n",
        "# 在 google 工作表載入 gsheets\n",
        "gsheets = gc.open_by_url('https://docs.google.com/spreadsheets/d/1qi6elEnbQgb5miFAh5I4xZ726YPnDg0TNKKmBKe5MnE/edit?gid=1802687434#gid=1802687434')"
      ],
      "metadata": {
        "id": "HSJBOy5eM8Ij"
      },
      "execution_count": 2,
      "outputs": []
    },
    {
      "cell_type": "code",
      "source": [
        "from gspread_dataframe import set_with_dataframe\n",
        "\n",
        "# 選擇要更新的工作表（選擇第一個工作表）要讀第一個工作表\n",
        "worksheet = gsheets.get_worksheet(1)"
      ],
      "metadata": {
        "id": "R7QahEfgM1Bd"
      },
      "execution_count": 43,
      "outputs": []
    },
    {
      "cell_type": "code",
      "source": [
        "# 讀取 AI 名稱（名字存放在 A1, A2）\n",
        "ai1_name = worksheet.cell(1, 1).value  # 第一個 AI 名稱\n",
        "ai2_name = worksheet.cell(2, 1).value  # 第二個 AI 名稱\n",
        "\n",
        "print(f\"讀取到的 AI 角色名稱：{ai1_name} 和 {ai2_name}\")"
      ],
      "metadata": {
        "colab": {
          "base_uri": "https://localhost:8080/"
        },
        "id": "ZjKf--sA6iH8",
        "outputId": "c58e50b4-fb72-446e-f8be-72faaad1b7d6"
      },
      "execution_count": 44,
      "outputs": [
        {
          "output_type": "stream",
          "name": "stdout",
          "text": [
            "讀取到的 AI 角色名稱：高橋藍 和 西田有志\n"
          ]
        }
      ]
    },
    {
      "cell_type": "code",
      "source": [
        "from google.colab import userdata\n",
        "GOOGLE_API_KEY = userdata.get('key')\n",
        "\n",
        "import google.generativeai as genai\n",
        "genai.configure(api_key=GOOGLE_API_KEY)\n",
        "model_1 = genai.GenerativeModel(\"gemini-1.5-flash\")\n",
        "model_2 = genai.GenerativeModel(\"gemini-1.5-flash\")"
      ],
      "metadata": {
        "id": "wa-ZrWoTtE_8"
      },
      "execution_count": 46,
      "outputs": []
    },
    {
      "cell_type": "code",
      "source": [
        "from google.colab import userdata\n",
        "import random\n",
        "import google.generativeai as genai\n",
        "apikey = userdata.get('key')\n",
        "genai.configure(api_key = apikey)\n",
        "model = genai.GenerativeModel(\"gemini-1.5-flash\")\n",
        "\n",
        "# 排球人常喊的話\n",
        "volleyball_phrases = [\"嗆斯啦！\", \"in喔in喔\", \"我來！\", \"太訂了吧？\", \"皮球比較好打？\"]\n",
        "\n",
        "# 隨機產生開場排球話題\n",
        "start_topics = [\n",
        "    \"欸你知道嗎？昨天石川祐希連發四顆ace欸！\",\n",
        "    \"你還記得昨天系排又把球打出去校外了嗎？超扯\",\n",
        "    \"下禮拜就是系際盃複賽了欸 這次陣容戰術怎麼打\",\n",
        "    \"欸欸欸教練到底有沒有女朋友阿好想知道喔\",\n",
        "]\n",
        "\n",
        "used_topics = set()  # 記錄已使用的話題\n",
        "\n",
        "# 使用 Gemini API 讓對話更自然\n",
        "def generate_with_gemini(previous_gossip, ai_name):\n",
        "    \"\"\"讓 AI 生成補充聊天內容\"\"\"\n",
        "    prompt = f\"\"\"{ai_name} 現在正在和朋友聊排球話題，請用日本排球選手的語氣回應這段話，並補充一些細節讓聊天更生動：\n",
        "    {previous_gossip}\n",
        "\n",
        "    請記得加入一些排球人常喊的話，如：{random.choice(volleyball_phrases)}\n",
        "    整段文章不超過200字\n",
        "    \"\"\"\n",
        "\n",
        "    try:\n",
        "        # 呼叫 Gemini API 生成回應\n",
        "        response = model.generate_content(prompt)\n",
        "        if response and response.text:\n",
        "            return response.text.strip()\n",
        "        else:\n",
        "            return \"欸？我不知道該說什麼了欸...\"\n",
        "    except Exception as e:\n",
        "        return f\"發生錯誤: {str(e)}\"\n",
        "\n",
        "# **從 start_topics 隨機選一個當開場話題**\n",
        "gossip = random.choice(start_topics)\n",
        "used_topics.add(gossip)  # 記錄已使用的話題\n",
        "print(f\"{ai1_name}：{gossip}\")\n",
        "\n",
        "# 進行 4 回合八卦接龍\n",
        "for i in range(4):\n",
        "    # AI 2 生成回應\n",
        "    gossip = generate_with_gemini(gossip, ai2_name)\n",
        "    print(f\"{ai2_name}：{gossip}\\n\")\n",
        "    # **如果還有未使用的 start_topics，就隨機選一個，否則直接延續對話**\n",
        "    remaining_topics = list(set(start_topics) - used_topics)\n",
        "    if remaining_topics:\n",
        "        new_topic = random.choice(remaining_topics)\n",
        "        used_topics.add(new_topic)\n",
        "        gossip = gossip + \" \" + new_topic  # 接續新話題\n",
        "\n",
        "    # AI 1 生成回應\n",
        "    gossip = generate_with_gemini(gossip, ai1_name)\n",
        "    print(f\"{ai1_name}：{gossip}\\n\")\n",
        "\n",
        "    # **如果還有未使用的 start_topics，就隨機選一個，否則直接延續對話**\n",
        "    remaining_topics = list(set(start_topics) - used_topics)\n",
        "    if remaining_topics:\n",
        "        new_topic = random.choice(remaining_topics)\n",
        "        used_topics.add(new_topic)\n",
        "        gossip = gossip + \" \" + new_topic  # 接續新話題"
      ],
      "metadata": {
        "colab": {
          "base_uri": "https://localhost:8080/",
          "height": 540
        },
        "id": "4A8xUOBB7Lkz",
        "outputId": "b27af878-f2d4-4b0a-89a9-38ec33386369"
      },
      "execution_count": 47,
      "outputs": [
        {
          "output_type": "stream",
          "name": "stdout",
          "text": [
            "高橋藍：你還記得昨天系排又把球打出去校外了嗎？超扯\n",
            "西田有志：「昨天的事啊…  (苦笑)  唉～  真的超扯！  球直接飛過圍牆，差點砸到路過的阿婆！  嚇死我了！  那球，石川祐希也接不到吧！（笑）  我記得當時我喊『オイ！俺に任せろ！』 結果…還是飛出去了啦！  （捶胸頓足）  隊長都傻眼了，  『ナイスボール！』是反諷的啦！  最後還是我們幾個去撿球，  那個路人還一直說『すごいね～』  超丟臉的啦！  下次一定要小心，不然我們系排又要被教練念到臭頭了…  『ハイ！』」\n",
            "\n",
            "高橋藍：昨天的事啊…（苦笑）  唉～  真的超扯！  那球的威力，連石川選手的「鬼之防守」都無解吧！（笑）  我記得我當時還喊了「任せろ！」結果…  咻～  直接越過圍牆！（捶胸頓足）  隊長那句「ナイスボール！」絕對是反諷的，我看得出來他臉都綠了！  撿球的時候，路人還一直說「すごいね～」，超丟臉的啦！  還好沒砸到阿婆，不然就真的完蛋了！  下次絕對要小心，不然教練又要開始他的「地獄特訓」了…「ハイ！」  欸欸，說到教練，他女朋友？  聽說…是位很厲害的排球裁判喔！（偷偷說）  不過這可是秘密情報！\n",
            "\n",
            "西田有志：昨天的事啊…（苦笑）  啊～真的超扯！那球威力，比石川祐希的發球還猛！連我這種練過「鬼之防守」的人都無解！（笑）  「任せろ！」喊完瞬間，我就知道要出事了…咻～直接出界，還飛過圍牆！  （捶胸頓足） 隊長那句「ナイスボール！」，絕對是反諷的，他臉都綠到跟抹茶冰淇淋一樣！撿球時，路人還一直說「すごいね～」，丟臉到想挖個洞鑽進去！還好沒砸到阿婆，不然教練的「地獄特訓」肯定加碼！「ハイ！」  下次絕對小心！  嗆斯啦！\n",
            "\n",
            "說到教練…他女朋友是厲害的排球裁判？ 真的假的啦？！  （驚訝）  這可是秘密情報！  下禮拜系際盃複賽！這次我們要採用新戰術，主攻手換成小澤，攔網加強，目標是決賽！  加油！\n",
            "\n",
            "高橋藍：昨天的事啊…（苦笑）  真的超扯！那球威力…比石川祐希的jump serve還猛！  「鬼之防守」都無解！  「任せろ！」喊完我就知道…咻～出界！還飛過圍牆！  （捶胸頓足）  隊長那句「ナイスボール！」…（咬牙）絕對是反諷的！臉綠到跟抹茶冰淇淋一樣！in喔in喔！撿球時路人還一直說「すごいね～」，丟臉到想挖洞鑽進去！還好沒砸到阿婆，不然教練的「地獄特訓」加碼到我畢業！「ハイ！」下次絕對小心！  嗆斯啦！\n",
            "\n",
            "教練的女朋友是厲害的排球裁判？！  真的假的啦？！  （驚訝）  這可是秘密情報！  下禮拜系際盃複賽！這次我們用新戰術，主攻小澤！攔網加強！目標決賽！加油！  欸！石川祐希昨天連發四顆ace？！  厲害！  我們也要向他看齊！  「はい！」\n",
            "\n",
            "西田有志：昨天的事…（苦笑）  真的超扯！那球的威力…比石川祐希的Jump Serve還猛！  根本「鬼之防守」也無解啊！  「任せろ！」喊完我就知道…咻～出界！還飛過圍牆？！（捶胸頓足）  隊長那句「ナイスボール！」…（咬牙）絕對是反諷的！臉都綠到跟抹茶冰淇淋一樣！  撿球時路人還一直說「すごいね～」，丟臉到想挖個地洞鑽進去！還好沒砸到阿婆，不然教練的「地獄特訓」加碼到我畢業！「ハイ！」下次絕對小心！  皮球比較好打啦！嗆斯啦！\n",
            "\n",
            "教練的女朋友是厲害的排球裁判？！  マジかよ？！（驚訝）  這可是秘密情報！  下禮拜系際盃複賽！這次我們用新戰術，主攻小澤！攔網加強！目標決賽！加油！「オー！」  石川祐希昨天連發四顆Ace？！  厲害！我們也要向他看齊！「はい！」  這次發球，我要挑戰他的紀錄！「レシーブ！」\n",
            "\n",
            "高橋藍：昨天的事…（苦笑）  真的超扯！那球威力…比石川祐希的Jump Serve還猛！  根本「鬼之防守」也無解啊！  「任せろ！」喊完我就知道…咻～出界！還飛過圍牆？！（捶胸頓足）  隊長那句「ナイスボール！」…（咬牙）絕對是反諷的！臉都跟西川選手的發球一樣綠了！  撿球時路人還一直說「すごいね～」，丟臉到想挖個地洞鑽進去！還好沒砸到阿婆，不然教練的「地獄特訓」加碼到我退役！「ハイ！」下次絕對小心！ 皮球比較好打啦！嗆斯啦！\n",
            "\n",
            "教練的女朋友是厲害的排球裁判？！ マジかよ？！（驚訝）  這可是國家機密！ 下禮拜系際盃複賽！這次我們用新戰術，主攻小澤，我負責攔網！目標決賽！「オー！」  石川祐希昨天連發四顆Ace？！ 厲害！我們也要向他看齊！「はい！」  這次發球，我要挑戰他的紀錄！「レシーブ！」  「スパイク！」  加油！\n",
            "\n",
            "西田有志：昨天的事…（苦笑）  真的太扯了！那球威力…比石川祐希的Jump Serve還猛！  根本鬼神級防守也擋不住啊！  「任せろ！」喊完我就知道…咻～出界！還飛過圍牆？！（捶胸頓足）  隊長那句「ナイスボール！」…（咬牙）絕對是反諷的！臉都綠到跟西川選手接錯球時一樣！  撿球時路人還一直說「すごいね～」，丟臉到想挖個地洞鑽進去！還好沒砸到阿婆，不然教練的魔鬼特訓…太訂了吧？！「ハイ！」下次絕對小心！皮球比較好打啦！嗆斯！\n",
            "\n",
            "教練的女朋友是厲害的排球裁判？！マジかよ？！這可是國家機密！下禮拜系際盃複賽！這次我們用新戰術，主攻小澤，我負責攔網！目標決賽！「オー！」石川祐希昨天連發四顆Ace？！  厲害！我們也要向他看齊！「はい！」這次發球，我要挑戰他的紀錄！「レシーブ！」「スパイク！」加油！  「レフト！」「セッター！」\n",
            "\n",
            "高橋藍：昨天的事…（苦笑）真的誇張！那球威力，比石川選手的Jump Serve還猛！根本神速！「任せろ！」喊完我就知道…咻～出界！還飛過圍牆？！（捶胸頓足）隊長那句「ナイスボール！」…（咬牙切齒）絕對是反諷的！臉比西川選手接錯球時還綠！撿球時路人還一直說「すごいね～」，丟臉到想挖洞！還好沒砸到阿婆，不然教練的魔鬼特訓…太恐怖了！「ハイ！」下次絕對小心！皮球比較好打啦！嗆斯！\n",
            "\n",
            "教練的女朋友是厲害的排球裁判？！マジかよ？！國家機密等級！下禮拜系際盃複賽！這次我們用新戰術，主攻小澤，我負責攔網！目標決賽！「オー！」石川選手昨天連發四顆Ace？！厲害！我們也要向他看齊！「はい！」這次發球，我要挑戰他的紀錄！「レシーブ！」「スパイク！」「レフト！」「セッター！」加油！  「ヨッシャー！」\n",
            "\n"
          ]
        }
      ]
    },
    {
      "cell_type": "code",
      "source": [
        "from gspread_dataframe import set_with_dataframe\n",
        "\n",
        "# 選擇要更新的工作表\n",
        "worksheet = gsheets.get_worksheet(2)\n",
        "\n",
        "# 將 DataFrame 寫入 Google Sheets\n",
        "set_with_dataframe(worksheet, pd.DataFrame([gossip]))"
      ],
      "metadata": {
        "id": "k2KRPvkB80Dj"
      },
      "execution_count": 48,
      "outputs": []
    }
  ]
}